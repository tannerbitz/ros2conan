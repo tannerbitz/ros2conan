{
 "cells": [
  {
   "cell_type": "code",
   "execution_count": 1,
   "metadata": {},
   "outputs": [],
   "source": [
    "%load_ext autoreload\n",
    "%autoreload 2\n",
    "\n",
    "from pathlib import Path\n",
    "import os\n",
    "from generate_conanfiles import *\n",
    "\n",
    "repo_dir = os.path.abspath('')\n",
    "src_dir = os.path.join(repo_dir, \"src\")\n",
    "package_xmls = get_package_xml_files(src_dir)\n",
    "make_abs = lambda x: os.path.abspath(os.path.join(src_dir, x))\n",
    "package_dirs = list(map(lambda x: Path(make_abs(x)).parent, package_xmls))\n"
   ]
  },
  {
   "cell_type": "code",
   "execution_count": null,
   "metadata": {},
   "outputs": [],
   "source": []
  },
  {
   "cell_type": "code",
   "execution_count": 21,
   "metadata": {},
   "outputs": [
    {
     "name": "stdout",
     "output_type": "stream",
     "text": [
      "/home/tbitz/repos/ros2conan/src/ros-tooling/libstatistics_collector/package.xml\n",
      "<?xml version=\"1.0\"?>\n",
      "<?xml-model href=\"http://download.ros.org/schema/package_format3.xsd\" schematypens=\"http://www.w3.org/2001/XMLSchema\"?>\n",
      "<package format=\"3\">\n",
      "  <name>libstatistics_collector</name>\n",
      "  <version>1.3.1</version>\n",
      "  <description>Lightweight aggregation utilities to collect statistics and measure message metrics.</description>\n",
      "  <maintainer email=\"ros-tooling@googlegroups.com\">ROS Tooling Working Group</maintainer>\n",
      "  <license>Apache License 2.0</license>\n",
      "\n",
      "  <buildtool_depend>ament_cmake</buildtool_depend>\n",
      "  <buildtool_depend>ament_cmake_ros</buildtool_depend>\n",
      "\n",
      "  <build_depend>rosidl_default_generators</build_depend>\n",
      "  <build_depend>std_msgs</build_depend>\n",
      "\n",
      "  <depend>builtin_interfaces</depend>\n",
      "  <depend>rcl</depend>\n",
      "  <depend>rcpputils</depend>\n",
      "  <depend>statistics_msgs</depend>\n",
      "\n",
      "  <exec_depend>rosidl_default_runtime</exec_depend>\n",
      "  <exec_depend>std_msgs</exec_depend>\n",
      "\n",
      "  <test_depend>ament_cmake_gtest</test_depend>\n",
      "  <test_depend>ament_lint_auto</test_depend>\n",
      "  <test_depend>ament_lint_common</test_depend>\n",
      "  <test_depend>performance_test_fixture</test_depend>\n",
      "\n",
      "  <member_of_group>rosidl_interface_packages</member_of_group>\n",
      "\n",
      "  <export>\n",
      "    <build_type>ament_cmake</build_type>\n",
      "  </export>\n",
      "</package>\n",
      "\n",
      "['ament_cmake']\n"
     ]
    }
   ],
   "source": [
    "import pandas as pd\n",
    "from generate_conanfiles import has_cmakelists, has_setup_py\n",
    "from rospackageparser import *\n",
    "import xml.etree.ElementTree as ET\n",
    "\n",
    "\n",
    "def create_package_meta(dirname):\n",
    "    return {\n",
    "        \"dir\" : dirname,\n",
    "        \"cmake\" : has_cmakelists(dirname),\n",
    "        \"python\" : has_setup_py(dirname),\n",
    "    }\n",
    "\n",
    "def package_name(dirname):\n",
    "    return os.path.split(dirname)[-1]\n",
    "\n",
    "pkg_info = { package_name(dirname) : create_package_meta(dirname) for dirname in package_dirs}\n",
    "\n",
    "pkg = os.path.join(package_dirs[-1], 'package.xml')\n",
    "print(pkg)\n",
    "with open(pkg, 'r') as stream:\n",
    "    print(stream.read())\n",
    "deps = get_dependencies(pkg)\n",
    "build_types = get_build_types(pkg)\n",
    "\n",
    "# df = pd.DataFrame(pkg_info).transpose()\n",
    "df = pd.DataFrame(deps)\n",
    "df.to_excel(\"package_info.xlsx\", sheet_name=\"deps\")\n",
    "print(build_types)\n"
   ]
  },
  {
   "cell_type": "code",
   "execution_count": 7,
   "metadata": {},
   "outputs": [
    {
     "ename": "NameError",
     "evalue": "name 'dir_meta' is not defined",
     "output_type": "error",
     "traceback": [
      "\u001b[0;31m---------------------------------------------------------------------------\u001b[0m",
      "\u001b[0;31mNameError\u001b[0m                                 Traceback (most recent call last)",
      "Cell \u001b[0;32mIn[7], line 3\u001b[0m\n\u001b[1;32m      1\u001b[0m build_system_unsure \u001b[39m=\u001b[39m [] \n\u001b[1;32m      2\u001b[0m both_cmake_and_python\u001b[39m=\u001b[39m [];\n\u001b[0;32m----> 3\u001b[0m \u001b[39mfor\u001b[39;00m pkg, meta \u001b[39min\u001b[39;00m dir_meta\u001b[39m.\u001b[39mitems():\n\u001b[1;32m      4\u001b[0m     \u001b[39mif\u001b[39;00m (\u001b[39mnot\u001b[39;00m meta[\u001b[39m'\u001b[39m\u001b[39mcmake\u001b[39m\u001b[39m'\u001b[39m] \u001b[39mand\u001b[39;00m \u001b[39mnot\u001b[39;00m meta[\u001b[39m'\u001b[39m\u001b[39mpython\u001b[39m\u001b[39m'\u001b[39m]):\n\u001b[1;32m      5\u001b[0m         build_system_unsure\u001b[39m.\u001b[39mappend(pkg)\n",
      "\u001b[0;31mNameError\u001b[0m: name 'dir_meta' is not defined"
     ]
    }
   ],
   "source": [
    "build_system_unsure = [] \n",
    "both_cmake_and_python= [];\n",
    "for pkg, meta in pkg_info.items():\n",
    "    if (not meta['cmake'] and not meta['python']):\n",
    "        build_system_unsure.append(pkg)\n",
    "    if (meta['cmake'] and meta['python']):\n",
    "        both_cmake_and_python.append(pkg)\n",
    "\n",
    "print(f\"Both cmake and python: {both_cmake_and_python}\")\n",
    "print(f\"Neither cmake or python: {build_system_unsure}\")\n",
    "\n",
    "for pkg in both_cmake_and_python:\n",
    "    pkg_dir = pkg_info[pkg]['dir']\n",
    "    print(f\"[{pkg}]\\n{os.listdir(pkg_dir)}\\n\\n\")"
   ]
  },
  {
   "cell_type": "code",
   "execution_count": null,
   "metadata": {},
   "outputs": [],
   "source": []
  }
 ],
 "metadata": {
  "kernelspec": {
   "display_name": "Python 3",
   "language": "python",
   "name": "python3"
  },
  "language_info": {
   "codemirror_mode": {
    "name": "ipython",
    "version": 3
   },
   "file_extension": ".py",
   "mimetype": "text/x-python",
   "name": "python",
   "nbconvert_exporter": "python",
   "pygments_lexer": "ipython3",
   "version": "3.10.6"
  },
  "orig_nbformat": 4
 },
 "nbformat": 4,
 "nbformat_minor": 2
}
