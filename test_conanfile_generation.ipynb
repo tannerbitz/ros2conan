{
 "cells": [
  {
   "cell_type": "code",
   "execution_count": 35,
   "metadata": {},
   "outputs": [
    {
     "name": "stdout",
     "output_type": "stream",
     "text": [
      "The autoreload extension is already loaded. To reload it, use:\n",
      "  %reload_ext autoreload\n",
      "[PosixPath('/home/tbitz/repos/ros2conan/src/eclipse-cyclonedds/cyclonedds'), PosixPath('/home/tbitz/repos/ros2conan/src/ros-visualization/rqt_graph'), PosixPath('/home/tbitz/repos/ros2conan/src/ros-visualization/rqt_publisher'), PosixPath('/home/tbitz/repos/ros2conan/src/ros-visualization/rqt_shell'), PosixPath('/home/tbitz/repos/ros2conan/src/ros-visualization/tango_icons_vendor'), PosixPath('/home/tbitz/repos/ros2conan/src/ros-visualization/rqt_console'), PosixPath('/home/tbitz/repos/ros2conan/src/ros-visualization/rqt_service_caller'), PosixPath('/home/tbitz/repos/ros2conan/src/ros-visualization/rqt/rqt_gui_cpp'), PosixPath('/home/tbitz/repos/ros2conan/src/ros-visualization/rqt/rqt_gui_py'), PosixPath('/home/tbitz/repos/ros2conan/src/ros-visualization/rqt/rqt_py_common'), PosixPath('/home/tbitz/repos/ros2conan/src/ros-visualization/rqt/rqt'), PosixPath('/home/tbitz/repos/ros2conan/src/ros-visualization/rqt/rqt_gui'), PosixPath('/home/tbitz/repos/ros2conan/src/ros-visualization/python_qt_binding'), PosixPath('/home/tbitz/repos/ros2conan/src/ros-visualization/rqt_topic'), PosixPath('/home/tbitz/repos/ros2conan/src/ros-visualization/rqt_reconfigure'), PosixPath('/home/tbitz/repos/ros2conan/src/ros-visualization/qt_gui_core/qt_dotgraph'), PosixPath('/home/tbitz/repos/ros2conan/src/ros-visualization/qt_gui_core/qt_gui_cpp'), PosixPath('/home/tbitz/repos/ros2conan/src/ros-visualization/qt_gui_core/qt_gui_py_common'), PosixPath('/home/tbitz/repos/ros2conan/src/ros-visualization/qt_gui_core/qt_gui_core'), PosixPath('/home/tbitz/repos/ros2conan/src/ros-visualization/qt_gui_core/qt_gui'), PosixPath('/home/tbitz/repos/ros2conan/src/ros-visualization/qt_gui_core/qt_gui_app'), PosixPath('/home/tbitz/repos/ros2conan/src/ros-visualization/rqt_msg'), PosixPath('/home/tbitz/repos/ros2conan/src/ros-visualization/interactive_markers'), PosixPath('/home/tbitz/repos/ros2conan/src/ros-visualization/rqt_action'), PosixPath('/home/tbitz/repos/ros2conan/src/ros-visualization/rqt_srv'), PosixPath('/home/tbitz/repos/ros2conan/src/ros-visualization/rqt_plot'), PosixPath('/home/tbitz/repos/ros2conan/src/ros-visualization/rqt_py_console'), PosixPath('/home/tbitz/repos/ros2conan/src/ros-visualization/rqt_bag/rqt_bag_plugins'), PosixPath('/home/tbitz/repos/ros2conan/src/ros-visualization/rqt_bag/rqt_bag'), PosixPath('/home/tbitz/repos/ros2conan/src/ignition/ignition_math6_vendor'), PosixPath('/home/tbitz/repos/ros2conan/src/ignition/ignition_cmake2_vendor'), PosixPath('/home/tbitz/repos/ros2conan/src/osrf/osrf_testing_tools_cpp/osrf_testing_tools_cpp'), PosixPath('/home/tbitz/repos/ros2conan/src/osrf/osrf_testing_tools_cpp/test_osrf_testing_tools_cpp'), PosixPath('/home/tbitz/repos/ros2conan/src/osrf/osrf_pycommon'), PosixPath('/home/tbitz/repos/ros2conan/src/ros2/rosidl_python/rosidl_generator_py'), PosixPath('/home/tbitz/repos/ros2conan/src/ros2/test_interface_files'), PosixPath('/home/tbitz/repos/ros2conan/src/ros2/pybind11_vendor'), PosixPath('/home/tbitz/repos/ros2conan/src/ros2/examples/launch_testing/launch_testing_examples'), PosixPath('/home/tbitz/repos/ros2conan/src/ros2/examples/rclpy/topics/minimal_publisher'), PosixPath('/home/tbitz/repos/ros2conan/src/ros2/examples/rclpy/topics/minimal_subscriber'), PosixPath('/home/tbitz/repos/ros2conan/src/ros2/examples/rclpy/topics/pointcloud_publisher'), PosixPath('/home/tbitz/repos/ros2conan/src/ros2/examples/rclpy/executors'), PosixPath('/home/tbitz/repos/ros2conan/src/ros2/examples/rclpy/actions/minimal_action_server'), PosixPath('/home/tbitz/repos/ros2conan/src/ros2/examples/rclpy/actions/minimal_action_client'), PosixPath('/home/tbitz/repos/ros2conan/src/ros2/examples/rclpy/services/minimal_service'), PosixPath('/home/tbitz/repos/ros2conan/src/ros2/examples/rclpy/services/minimal_client'), PosixPath('/home/tbitz/repos/ros2conan/src/ros2/examples/rclpy/guard_conditions'), PosixPath('/home/tbitz/repos/ros2conan/src/ros2/examples/rclcpp/topics/minimal_publisher'), PosixPath('/home/tbitz/repos/ros2conan/src/ros2/examples/rclcpp/topics/minimal_subscriber'), PosixPath('/home/tbitz/repos/ros2conan/src/ros2/examples/rclcpp/executors/cbg_executor'), PosixPath('/home/tbitz/repos/ros2conan/src/ros2/examples/rclcpp/executors/multithreaded_executor'), PosixPath('/home/tbitz/repos/ros2conan/src/ros2/examples/rclcpp/actions/minimal_action_server'), PosixPath('/home/tbitz/repos/ros2conan/src/ros2/examples/rclcpp/actions/minimal_action_client'), PosixPath('/home/tbitz/repos/ros2conan/src/ros2/examples/rclcpp/timers/minimal_timer'), PosixPath('/home/tbitz/repos/ros2conan/src/ros2/examples/rclcpp/services/async_client'), PosixPath('/home/tbitz/repos/ros2conan/src/ros2/examples/rclcpp/services/minimal_service'), PosixPath('/home/tbitz/repos/ros2conan/src/ros2/examples/rclcpp/services/minimal_client'), PosixPath('/home/tbitz/repos/ros2conan/src/ros2/examples/rclcpp/wait_set'), PosixPath('/home/tbitz/repos/ros2conan/src/ros2/examples/rclcpp/composition/minimal_composition'), PosixPath('/home/tbitz/repos/ros2conan/src/ros2/performance_test_fixture'), PosixPath('/home/tbitz/repos/ros2conan/src/ros2/message_filters'), PosixPath('/home/tbitz/repos/ros2conan/src/ros2/rmw_implementation/rmw_implementation'), PosixPath('/home/tbitz/repos/ros2conan/src/ros2/rmw_implementation/test_rmw_implementation'), PosixPath('/home/tbitz/repos/ros2conan/src/ros2/sros2/sros2'), PosixPath('/home/tbitz/repos/ros2conan/src/ros2/sros2/sros2_cmake'), PosixPath('/home/tbitz/repos/ros2conan/src/ros2/ament_cmake_ros/ament_cmake_ros'), PosixPath('/home/tbitz/repos/ros2conan/src/ros2/ament_cmake_ros/domain_coordinator'), PosixPath('/home/tbitz/repos/ros2conan/src/ros2/geometry2/tf2_tools'), PosixPath('/home/tbitz/repos/ros2conan/src/ros2/geometry2/examples_tf2_py'), PosixPath('/home/tbitz/repos/ros2conan/src/ros2/geometry2/geometry2'), PosixPath('/home/tbitz/repos/ros2conan/src/ros2/geometry2/tf2_kdl'), PosixPath('/home/tbitz/repos/ros2conan/src/ros2/geometry2/tf2_ros'), PosixPath('/home/tbitz/repos/ros2conan/src/ros2/geometry2/tf2_py'), PosixPath('/home/tbitz/repos/ros2conan/src/ros2/geometry2/tf2_bullet'), PosixPath('/home/tbitz/repos/ros2conan/src/ros2/geometry2/tf2_eigen'), PosixPath('/home/tbitz/repos/ros2conan/src/ros2/geometry2/test_tf2'), PosixPath('/home/tbitz/repos/ros2conan/src/ros2/geometry2/tf2_eigen_kdl'), PosixPath('/home/tbitz/repos/ros2conan/src/ros2/geometry2/tf2'), PosixPath('/home/tbitz/repos/ros2conan/src/ros2/geometry2/tf2_ros_py'), PosixPath('/home/tbitz/repos/ros2conan/src/ros2/geometry2/tf2_geometry_msgs'), PosixPath('/home/tbitz/repos/ros2conan/src/ros2/geometry2/tf2_sensor_msgs'), PosixPath('/home/tbitz/repos/ros2conan/src/ros2/geometry2/tf2_msgs'), PosixPath('/home/tbitz/repos/ros2conan/src/ros2/python_cmake_module'), PosixPath('/home/tbitz/repos/ros2conan/src/ros2/rosbag2/shared_queues_vendor'), PosixPath('/home/tbitz/repos/ros2conan/src/ros2/rosbag2/rosbag2_storage_mcap_testdata'), PosixPath('/home/tbitz/repos/ros2conan/src/ros2/rosbag2/rosbag2_transport'), PosixPath('/home/tbitz/repos/ros2conan/src/ros2/rosbag2/rosbag2_cpp'), PosixPath('/home/tbitz/repos/ros2conan/src/ros2/rosbag2/rosbag2'), PosixPath('/home/tbitz/repos/ros2conan/src/ros2/rosbag2/rosbag2_tests'), PosixPath('/home/tbitz/repos/ros2conan/src/ros2/rosbag2/rosbag2_py'), PosixPath('/home/tbitz/repos/ros2conan/src/ros2/rosbag2/rosbag2_compression_zstd'), PosixPath('/home/tbitz/repos/ros2conan/src/ros2/rosbag2/mcap_vendor'), PosixPath('/home/tbitz/repos/ros2conan/src/ros2/rosbag2/rosbag2_performance/rosbag2_performance_benchmarking'), PosixPath('/home/tbitz/repos/ros2conan/src/ros2/rosbag2/sqlite3_vendor'), PosixPath('/home/tbitz/repos/ros2conan/src/ros2/rosbag2/rosbag2_storage_mcap'), PosixPath('/home/tbitz/repos/ros2conan/src/ros2/rosbag2/rosbag2_storage_default_plugins'), PosixPath('/home/tbitz/repos/ros2conan/src/ros2/rosbag2/rosbag2_storage'), PosixPath('/home/tbitz/repos/ros2conan/src/ros2/rosbag2/rosbag2_compression'), PosixPath('/home/tbitz/repos/ros2conan/src/ros2/rosbag2/zstd_vendor'), PosixPath('/home/tbitz/repos/ros2conan/src/ros2/rosbag2/rosbag2_interfaces'), PosixPath('/home/tbitz/repos/ros2conan/src/ros2/rosbag2/rosbag2_test_common'), PosixPath('/home/tbitz/repos/ros2conan/src/ros2/rosbag2/ros2bag'), PosixPath('/home/tbitz/repos/ros2conan/src/ros2/eigen3_cmake_module'), PosixPath('/home/tbitz/repos/ros2conan/src/ros2/rpyutils'), PosixPath('/home/tbitz/repos/ros2conan/src/ros2/rmw_dds_common/rmw_dds_common'), PosixPath('/home/tbitz/repos/ros2conan/src/ros2/rclpy/rclpy'), PosixPath('/home/tbitz/repos/ros2conan/src/ros2/rosidl_typesupport_fastrtps/rosidl_typesupport_fastrtps_cpp'), PosixPath('/home/tbitz/repos/ros2conan/src/ros2/rosidl_typesupport_fastrtps/fastrtps_cmake_module'), PosixPath('/home/tbitz/repos/ros2conan/src/ros2/rosidl_typesupport_fastrtps/rosidl_typesupport_fastrtps_c'), PosixPath('/home/tbitz/repos/ros2conan/src/ros2/rcpputils'), PosixPath('/home/tbitz/repos/ros2conan/src/ros2/rcutils'), PosixPath('/home/tbitz/repos/ros2conan/src/ros2/system_tests/test_security'), PosixPath('/home/tbitz/repos/ros2conan/src/ros2/system_tests/test_cli_remapping'), PosixPath('/home/tbitz/repos/ros2conan/src/ros2/system_tests/test_communication'), PosixPath('/home/tbitz/repos/ros2conan/src/ros2/system_tests/test_rclcpp'), PosixPath('/home/tbitz/repos/ros2conan/src/ros2/system_tests/test_quality_of_service'), PosixPath('/home/tbitz/repos/ros2conan/src/ros2/system_tests/test_cli'), PosixPath('/home/tbitz/repos/ros2conan/src/ros2/rmw_cyclonedds/rmw_cyclonedds_cpp'), PosixPath('/home/tbitz/repos/ros2conan/src/ros2/tlsf/tlsf'), PosixPath('/home/tbitz/repos/ros2conan/src/ros2/example_interfaces'), PosixPath('/home/tbitz/repos/ros2conan/src/ros2/unique_identifier_msgs'), PosixPath('/home/tbitz/repos/ros2conan/src/ros2/rclcpp/rclcpp_lifecycle'), PosixPath('/home/tbitz/repos/ros2conan/src/ros2/rclcpp/rclcpp_action'), PosixPath('/home/tbitz/repos/ros2conan/src/ros2/rclcpp/rclcpp'), PosixPath('/home/tbitz/repos/ros2conan/src/ros2/rclcpp/rclcpp_components'), PosixPath('/home/tbitz/repos/ros2conan/src/ros2/rosidl_dds/rosidl_generator_dds_idl'), PosixPath('/home/tbitz/repos/ros2conan/src/ros2/rmw_connextdds/rmw_connextddsmicro'), PosixPath('/home/tbitz/repos/ros2conan/src/ros2/rmw_connextdds/rmw_connextdds'), PosixPath('/home/tbitz/repos/ros2conan/src/ros2/rmw_connextdds/rmw_connextdds_common'), PosixPath('/home/tbitz/repos/ros2conan/src/ros2/rmw_connextdds/rti_connext_dds_cmake_module'), PosixPath('/home/tbitz/repos/ros2conan/src/ros2/rosidl_runtime_py'), PosixPath('/home/tbitz/repos/ros2conan/src/ros2/ros2cli/ros2pkg'), PosixPath('/home/tbitz/repos/ros2conan/src/ros2/ros2cli/ros2lifecycle'), PosixPath('/home/tbitz/repos/ros2conan/src/ros2/ros2cli/ros2interface'), PosixPath('/home/tbitz/repos/ros2conan/src/ros2/ros2cli/ros2multicast'), PosixPath('/home/tbitz/repos/ros2conan/src/ros2/ros2cli/ros2action'), PosixPath('/home/tbitz/repos/ros2conan/src/ros2/ros2cli/ros2cli_test_interfaces'), PosixPath('/home/tbitz/repos/ros2conan/src/ros2/ros2cli/ros2cli'), PosixPath('/home/tbitz/repos/ros2conan/src/ros2/ros2cli/ros2run'), PosixPath('/home/tbitz/repos/ros2conan/src/ros2/ros2cli/ros2lifecycle_test_fixtures'), PosixPath('/home/tbitz/repos/ros2conan/src/ros2/ros2cli/ros2param'), PosixPath('/home/tbitz/repos/ros2conan/src/ros2/ros2cli/ros2service'), PosixPath('/home/tbitz/repos/ros2conan/src/ros2/ros2cli/ros2component'), PosixPath('/home/tbitz/repos/ros2conan/src/ros2/ros2cli/ros2doctor'), PosixPath('/home/tbitz/repos/ros2conan/src/ros2/ros2cli/ros2topic'), PosixPath('/home/tbitz/repos/ros2conan/src/ros2/ros2cli/ros2node'), PosixPath('/home/tbitz/repos/ros2conan/src/ros2/mimick_vendor'), PosixPath('/home/tbitz/repos/ros2conan/src/ros2/rmw_fastrtps/rmw_fastrtps_cpp'), PosixPath('/home/tbitz/repos/ros2conan/src/ros2/rmw_fastrtps/rmw_fastrtps_dynamic_cpp'), PosixPath('/home/tbitz/repos/ros2conan/src/ros2/rmw_fastrtps/rmw_fastrtps_shared_cpp'), PosixPath('/home/tbitz/repos/ros2conan/src/ros2/rcl_interfaces/statistics_msgs'), PosixPath('/home/tbitz/repos/ros2conan/src/ros2/rcl_interfaces/composition_interfaces'), PosixPath('/home/tbitz/repos/ros2conan/src/ros2/rcl_interfaces/lifecycle_msgs'), PosixPath('/home/tbitz/repos/ros2conan/src/ros2/rcl_interfaces/test_msgs'), PosixPath('/home/tbitz/repos/ros2conan/src/ros2/rcl_interfaces/rcl_interfaces'), PosixPath('/home/tbitz/repos/ros2conan/src/ros2/rcl_interfaces/action_msgs'), PosixPath('/home/tbitz/repos/ros2conan/src/ros2/rcl_interfaces/rosgraph_msgs'), PosixPath('/home/tbitz/repos/ros2conan/src/ros2/rcl_interfaces/builtin_interfaces'), PosixPath('/home/tbitz/repos/ros2conan/src/ros2/orocos_kdl_vendor/python_orocos_kdl_vendor'), PosixPath('/home/tbitz/repos/ros2conan/src/ros2/orocos_kdl_vendor/orocos_kdl_vendor'), PosixPath('/home/tbitz/repos/ros2conan/src/ros2/realtime_support/tlsf_cpp'), PosixPath('/home/tbitz/repos/ros2conan/src/ros2/realtime_support/rttest'), PosixPath('/home/tbitz/repos/ros2conan/src/ros2/rosidl/rosidl_adapter'), PosixPath('/home/tbitz/repos/ros2conan/src/ros2/rosidl/rosidl_cli'), PosixPath('/home/tbitz/repos/ros2conan/src/ros2/rosidl/rosidl_generator_c'), PosixPath('/home/tbitz/repos/ros2conan/src/ros2/rosidl/rosidl_runtime_cpp'), PosixPath('/home/tbitz/repos/ros2conan/src/ros2/rosidl/rosidl_typesupport_introspection_tests'), PosixPath('/home/tbitz/repos/ros2conan/src/ros2/rosidl/rosidl_typesupport_interface'), PosixPath('/home/tbitz/repos/ros2conan/src/ros2/rosidl/rosidl_parser'), PosixPath('/home/tbitz/repos/ros2conan/src/ros2/rosidl/rosidl_typesupport_introspection_cpp'), PosixPath('/home/tbitz/repos/ros2conan/src/ros2/rosidl/rosidl_cmake'), PosixPath('/home/tbitz/repos/ros2conan/src/ros2/rosidl/rosidl_runtime_c'), PosixPath('/home/tbitz/repos/ros2conan/src/ros2/rosidl/rosidl_typesupport_introspection_c'), PosixPath('/home/tbitz/repos/ros2conan/src/ros2/rosidl/rosidl_generator_cpp'), PosixPath('/home/tbitz/repos/ros2conan/src/ros2/ros_testing/ros_testing'), PosixPath('/home/tbitz/repos/ros2conan/src/ros2/ros_testing/ros2test'), PosixPath('/home/tbitz/repos/ros2conan/src/ros2/console_bridge_vendor'), PosixPath('/home/tbitz/repos/ros2conan/src/ros2/rosidl_defaults/rosidl_default_generators'), PosixPath('/home/tbitz/repos/ros2conan/src/ros2/rosidl_defaults/rosidl_default_runtime'), PosixPath('/home/tbitz/repos/ros2conan/src/ros2/launch/launch_testing'), PosixPath('/home/tbitz/repos/ros2conan/src/ros2/launch/launch_pytest'), PosixPath('/home/tbitz/repos/ros2conan/src/ros2/launch/launch'), PosixPath('/home/tbitz/repos/ros2conan/src/ros2/launch/launch_xml'), PosixPath('/home/tbitz/repos/ros2conan/src/ros2/launch/launch_yaml'), PosixPath('/home/tbitz/repos/ros2conan/src/ros2/launch/launch_testing_ament_cmake'), PosixPath('/home/tbitz/repos/ros2conan/src/ros2/launch/test_launch_testing'), PosixPath('/home/tbitz/repos/ros2conan/src/ros2/launch_ros/launch_testing_ros'), PosixPath('/home/tbitz/repos/ros2conan/src/ros2/launch_ros/ros2launch'), PosixPath('/home/tbitz/repos/ros2conan/src/ros2/launch_ros/test_launch_ros'), PosixPath('/home/tbitz/repos/ros2conan/src/ros2/launch_ros/launch_ros'), PosixPath('/home/tbitz/repos/ros2conan/src/ros2/rosidl_typesupport/rosidl_typesupport_cpp'), PosixPath('/home/tbitz/repos/ros2conan/src/ros2/rosidl_typesupport/rosidl_typesupport_c'), PosixPath('/home/tbitz/repos/ros2conan/src/ros2/yaml_cpp_vendor'), PosixPath('/home/tbitz/repos/ros2conan/src/ros2/demos/topic_statistics_demo'), PosixPath('/home/tbitz/repos/ros2conan/src/ros2/demos/pendulum_msgs'), PosixPath('/home/tbitz/repos/ros2conan/src/ros2/demos/dummy_robot/dummy_map_server'), PosixPath('/home/tbitz/repos/ros2conan/src/ros2/demos/dummy_robot/dummy_sensors'), PosixPath('/home/tbitz/repos/ros2conan/src/ros2/demos/dummy_robot/dummy_robot_bringup'), PosixPath('/home/tbitz/repos/ros2conan/src/ros2/demos/quality_of_service_demo/rclpy'), PosixPath('/home/tbitz/repos/ros2conan/src/ros2/demos/quality_of_service_demo/rclcpp'), PosixPath('/home/tbitz/repos/ros2conan/src/ros2/demos/topic_monitor'), PosixPath('/home/tbitz/repos/ros2conan/src/ros2/demos/image_tools'), PosixPath('/home/tbitz/repos/ros2conan/src/ros2/demos/logging_demo'), PosixPath('/home/tbitz/repos/ros2conan/src/ros2/demos/demo_nodes_py'), PosixPath('/home/tbitz/repos/ros2conan/src/ros2/demos/pendulum_control'), PosixPath('/home/tbitz/repos/ros2conan/src/ros2/demos/demo_nodes_cpp_native'), PosixPath('/home/tbitz/repos/ros2conan/src/ros2/demos/demo_nodes_cpp'), PosixPath('/home/tbitz/repos/ros2conan/src/ros2/demos/action_tutorials/action_tutorials_interfaces'), PosixPath('/home/tbitz/repos/ros2conan/src/ros2/demos/action_tutorials/action_tutorials_cpp'), PosixPath('/home/tbitz/repos/ros2conan/src/ros2/demos/action_tutorials/action_tutorials_py'), PosixPath('/home/tbitz/repos/ros2conan/src/ros2/demos/lifecycle'), PosixPath('/home/tbitz/repos/ros2conan/src/ros2/demos/lifecycle_py'), PosixPath('/home/tbitz/repos/ros2conan/src/ros2/demos/composition'), PosixPath('/home/tbitz/repos/ros2conan/src/ros2/demos/intra_process_demo'), PosixPath('/home/tbitz/repos/ros2conan/src/ros2/rcl_logging/rcl_logging_spdlog'), PosixPath('/home/tbitz/repos/ros2conan/src/ros2/rcl_logging/rcl_logging_interface'), PosixPath('/home/tbitz/repos/ros2conan/src/ros2/rcl_logging/rcl_logging_noop'), PosixPath('/home/tbitz/repos/ros2conan/src/ros2/rcl/rcl_yaml_param_parser'), PosixPath('/home/tbitz/repos/ros2conan/src/ros2/rcl/rcl_lifecycle'), PosixPath('/home/tbitz/repos/ros2conan/src/ros2/rcl/rcl'), PosixPath('/home/tbitz/repos/ros2conan/src/ros2/rcl/rcl_action'), PosixPath('/home/tbitz/repos/ros2conan/src/ros2/rviz/rviz_rendering_tests'), PosixPath('/home/tbitz/repos/ros2conan/src/ros2/rviz/rviz2'), PosixPath('/home/tbitz/repos/ros2conan/src/ros2/rviz/rviz_assimp_vendor'), PosixPath('/home/tbitz/repos/ros2conan/src/ros2/rviz/rviz_ogre_vendor'), PosixPath('/home/tbitz/repos/ros2conan/src/ros2/rviz/rviz_rendering'), PosixPath('/home/tbitz/repos/ros2conan/src/ros2/rviz/rviz_default_plugins'), PosixPath('/home/tbitz/repos/ros2conan/src/ros2/rviz/rviz_common'), PosixPath('/home/tbitz/repos/ros2conan/src/ros2/rviz/rviz_visual_testing_framework'), PosixPath('/home/tbitz/repos/ros2conan/src/ros2/ros2cli_common_extensions/ros2cli_common_extensions'), PosixPath('/home/tbitz/repos/ros2conan/src/ros2/spdlog_vendor'), PosixPath('/home/tbitz/repos/ros2conan/src/ros2/tinyxml2_vendor'), PosixPath('/home/tbitz/repos/ros2conan/src/ros2/tinyxml_vendor'), PosixPath('/home/tbitz/repos/ros2conan/src/ros2/common_interfaces/diagnostic_msgs'), PosixPath('/home/tbitz/repos/ros2conan/src/ros2/common_interfaces/nav_msgs'), PosixPath('/home/tbitz/repos/ros2conan/src/ros2/common_interfaces/shape_msgs'), PosixPath('/home/tbitz/repos/ros2conan/src/ros2/common_interfaces/sensor_msgs'), PosixPath('/home/tbitz/repos/ros2conan/src/ros2/common_interfaces/actionlib_msgs'), PosixPath('/home/tbitz/repos/ros2conan/src/ros2/common_interfaces/trajectory_msgs'), PosixPath('/home/tbitz/repos/ros2conan/src/ros2/common_interfaces/std_srvs'), PosixPath('/home/tbitz/repos/ros2conan/src/ros2/common_interfaces/visualization_msgs'), PosixPath('/home/tbitz/repos/ros2conan/src/ros2/common_interfaces/geometry_msgs'), PosixPath('/home/tbitz/repos/ros2conan/src/ros2/common_interfaces/sensor_msgs_py'), PosixPath('/home/tbitz/repos/ros2conan/src/ros2/common_interfaces/std_msgs'), PosixPath('/home/tbitz/repos/ros2conan/src/ros2/common_interfaces/common_interfaces'), PosixPath('/home/tbitz/repos/ros2conan/src/ros2/common_interfaces/stereo_msgs'), PosixPath('/home/tbitz/repos/ros2conan/src/ros2/ros2_tracing/tracetools_read'), PosixPath('/home/tbitz/repos/ros2conan/src/ros2/ros2_tracing/tracetools_trace'), PosixPath('/home/tbitz/repos/ros2conan/src/ros2/ros2_tracing/tracetools_test'), PosixPath('/home/tbitz/repos/ros2conan/src/ros2/ros2_tracing/tracetools_launch'), PosixPath('/home/tbitz/repos/ros2conan/src/ros2/ros2_tracing/tracetools'), PosixPath('/home/tbitz/repos/ros2conan/src/ros2/ros2_tracing/ros2trace'), PosixPath('/home/tbitz/repos/ros2conan/src/ros2/ros2_tracing/test_tracetools'), PosixPath('/home/tbitz/repos/ros2conan/src/ros2/ros2_tracing/test_tracetools_launch'), PosixPath('/home/tbitz/repos/ros2conan/src/ros2/rmw/rmw_implementation_cmake'), PosixPath('/home/tbitz/repos/ros2conan/src/ros2/rmw/rmw'), PosixPath('/home/tbitz/repos/ros2conan/src/ros2/urdf/urdf_parser_plugin'), PosixPath('/home/tbitz/repos/ros2conan/src/ros2/urdf/urdf'), PosixPath('/home/tbitz/repos/ros2conan/src/ros2/libyaml_vendor'), PosixPath('/home/tbitz/repos/ros2conan/src/ament/ament_cmake/ament_cmake_export_dependencies'), PosixPath('/home/tbitz/repos/ros2conan/src/ament/ament_cmake/ament_cmake_test'), PosixPath('/home/tbitz/repos/ros2conan/src/ament/ament_cmake/ament_cmake'), PosixPath('/home/tbitz/repos/ros2conan/src/ament/ament_cmake/ament_cmake_pytest'), PosixPath('/home/tbitz/repos/ros2conan/src/ament/ament_cmake/ament_cmake_export_libraries'), PosixPath('/home/tbitz/repos/ros2conan/src/ament/ament_cmake/ament_cmake_version'), PosixPath('/home/tbitz/repos/ros2conan/src/ament/ament_cmake/ament_cmake_gmock'), PosixPath('/home/tbitz/repos/ros2conan/src/ament/ament_cmake/ament_cmake_gtest'), PosixPath('/home/tbitz/repos/ros2conan/src/ament/ament_cmake/ament_cmake_export_link_flags'), PosixPath('/home/tbitz/repos/ros2conan/src/ament/ament_cmake/ament_cmake_core'), PosixPath('/home/tbitz/repos/ros2conan/src/ament/ament_cmake/ament_cmake_python'), PosixPath('/home/tbitz/repos/ros2conan/src/ament/ament_cmake/ament_cmake_export_interfaces'), PosixPath('/home/tbitz/repos/ros2conan/src/ament/ament_cmake/ament_cmake_auto'), PosixPath('/home/tbitz/repos/ros2conan/src/ament/ament_cmake/ament_cmake_export_targets'), PosixPath('/home/tbitz/repos/ros2conan/src/ament/ament_cmake/ament_cmake_export_definitions'), PosixPath('/home/tbitz/repos/ros2conan/src/ament/ament_cmake/ament_cmake_gen_version_h'), PosixPath('/home/tbitz/repos/ros2conan/src/ament/ament_cmake/ament_cmake_include_directories'), PosixPath('/home/tbitz/repos/ros2conan/src/ament/ament_cmake/ament_cmake_libraries'), PosixPath('/home/tbitz/repos/ros2conan/src/ament/ament_cmake/ament_cmake_nose'), PosixPath('/home/tbitz/repos/ros2conan/src/ament/ament_cmake/ament_cmake_export_include_directories'), PosixPath('/home/tbitz/repos/ros2conan/src/ament/ament_cmake/ament_cmake_target_dependencies'), PosixPath('/home/tbitz/repos/ros2conan/src/ament/ament_cmake/ament_cmake_google_benchmark'), PosixPath('/home/tbitz/repos/ros2conan/src/ament/google_benchmark_vendor'), PosixPath('/home/tbitz/repos/ros2conan/src/ament/ament_lint/ament_pclint'), PosixPath('/home/tbitz/repos/ros2conan/src/ament/ament_lint/ament_cmake_pclint'), PosixPath('/home/tbitz/repos/ros2conan/src/ament/ament_lint/ament_cmake_pycodestyle'), PosixPath('/home/tbitz/repos/ros2conan/src/ament/ament_lint/ament_cmake_uncrustify'), PosixPath('/home/tbitz/repos/ros2conan/src/ament/ament_lint/ament_lint'), PosixPath('/home/tbitz/repos/ros2conan/src/ament/ament_lint/ament_clang_tidy'), PosixPath('/home/tbitz/repos/ros2conan/src/ament/ament_lint/ament_cmake_pyflakes'), PosixPath('/home/tbitz/repos/ros2conan/src/ament/ament_lint/ament_lint_auto'), PosixPath('/home/tbitz/repos/ros2conan/src/ament/ament_lint/ament_pycodestyle'), PosixPath('/home/tbitz/repos/ros2conan/src/ament/ament_lint/ament_mypy'), PosixPath('/home/tbitz/repos/ros2conan/src/ament/ament_lint/ament_xmllint'), PosixPath('/home/tbitz/repos/ros2conan/src/ament/ament_lint/ament_lint_common'), PosixPath('/home/tbitz/repos/ros2conan/src/ament/ament_lint/ament_copyright'), PosixPath('/home/tbitz/repos/ros2conan/src/ament/ament_lint/ament_lint_cmake'), PosixPath('/home/tbitz/repos/ros2conan/src/ament/ament_lint/ament_cmake_clang_format'), PosixPath('/home/tbitz/repos/ros2conan/src/ament/ament_lint/ament_flake8'), PosixPath('/home/tbitz/repos/ros2conan/src/ament/ament_lint/ament_pyflakes'), PosixPath('/home/tbitz/repos/ros2conan/src/ament/ament_lint/ament_uncrustify'), PosixPath('/home/tbitz/repos/ros2conan/src/ament/ament_lint/ament_cmake_pep257'), PosixPath('/home/tbitz/repos/ros2conan/src/ament/ament_lint/ament_cmake_copyright'), PosixPath('/home/tbitz/repos/ros2conan/src/ament/ament_lint/ament_cpplint'), PosixPath('/home/tbitz/repos/ros2conan/src/ament/ament_lint/ament_cmake_xmllint'), PosixPath('/home/tbitz/repos/ros2conan/src/ament/ament_lint/ament_pep257'), PosixPath('/home/tbitz/repos/ros2conan/src/ament/ament_lint/ament_clang_format'), PosixPath('/home/tbitz/repos/ros2conan/src/ament/ament_lint/ament_cppcheck'), PosixPath('/home/tbitz/repos/ros2conan/src/ament/ament_lint/ament_cmake_flake8'), PosixPath('/home/tbitz/repos/ros2conan/src/ament/ament_lint/ament_cmake_cppcheck'), PosixPath('/home/tbitz/repos/ros2conan/src/ament/ament_lint/ament_cmake_clang_tidy'), PosixPath('/home/tbitz/repos/ros2conan/src/ament/ament_lint/ament_cmake_mypy'), PosixPath('/home/tbitz/repos/ros2conan/src/ament/ament_lint/ament_cmake_cpplint'), PosixPath('/home/tbitz/repos/ros2conan/src/ament/ament_lint/ament_cmake_lint_cmake'), PosixPath('/home/tbitz/repos/ros2conan/src/ament/googletest/googletest'), PosixPath('/home/tbitz/repos/ros2conan/src/ament/googletest/googlemock'), PosixPath('/home/tbitz/repos/ros2conan/src/ament/ament_package'), PosixPath('/home/tbitz/repos/ros2conan/src/ament/uncrustify_vendor'), PosixPath('/home/tbitz/repos/ros2conan/src/ament/ament_index/ament_index_cpp'), PosixPath('/home/tbitz/repos/ros2conan/src/ament/ament_index/ament_index_python'), PosixPath('/home/tbitz/repos/ros2conan/src/ros/urdfdom'), PosixPath('/home/tbitz/repos/ros2conan/src/ros/pluginlib/pluginlib'), PosixPath('/home/tbitz/repos/ros2conan/src/ros/class_loader'), PosixPath('/home/tbitz/repos/ros2conan/src/ros/ros_environment'), PosixPath('/home/tbitz/repos/ros2conan/src/ros/kdl_parser/kdl_parser_py'), PosixPath('/home/tbitz/repos/ros2conan/src/ros/kdl_parser/kdl_parser'), PosixPath('/home/tbitz/repos/ros2conan/src/ros/resource_retriever/libcurl_vendor'), PosixPath('/home/tbitz/repos/ros2conan/src/ros/resource_retriever/resource_retriever'), PosixPath('/home/tbitz/repos/ros2conan/src/ros/robot_state_publisher'), PosixPath('/home/tbitz/repos/ros2conan/src/ros/ros_tutorials/rospy_tutorials'), PosixPath('/home/tbitz/repos/ros2conan/src/ros/ros_tutorials/turtlesim'), PosixPath('/home/tbitz/repos/ros2conan/src/ros/ros_tutorials/roscpp_tutorials'), PosixPath('/home/tbitz/repos/ros2conan/src/ros/ros_tutorials/ros_tutorials'), PosixPath('/home/tbitz/repos/ros2conan/src/ros-perception/laser_geometry'), PosixPath('/home/tbitz/repos/ros2conan/src/ros-perception/image_common/image_transport'), PosixPath('/home/tbitz/repos/ros2conan/src/ros-perception/image_common/camera_info_manager'), PosixPath('/home/tbitz/repos/ros2conan/src/ros-perception/image_common/polled_camera'), PosixPath('/home/tbitz/repos/ros2conan/src/ros-perception/image_common/camera_calibration_parsers'), PosixPath('/home/tbitz/repos/ros2conan/src/ros-perception/image_common/image_common'), PosixPath('/home/tbitz/repos/ros2conan/src/eProsima/foonathan_memory_vendor'), PosixPath('/home/tbitz/repos/ros2conan/src/eProsima/Fast-DDS'), PosixPath('/home/tbitz/repos/ros2conan/src/eclipse-iceoryx/iceoryx/iceoryx_posh'), PosixPath('/home/tbitz/repos/ros2conan/src/eclipse-iceoryx/iceoryx/iceoryx_integrationtest'), PosixPath('/home/tbitz/repos/ros2conan/src/eclipse-iceoryx/iceoryx/iceoryx_binding_c'), PosixPath('/home/tbitz/repos/ros2conan/src/eclipse-iceoryx/iceoryx/iceoryx_hoofs'), PosixPath('/home/tbitz/repos/ros2conan/src/ros-planning/navigation_msgs/map_msgs'), PosixPath('/home/tbitz/repos/ros2conan/src/ros-tooling/keyboard_handler/keyboard_handler'), PosixPath('/home/tbitz/repos/ros2conan/src/ros-tooling/libstatistics_collector')]\n"
     ]
    }
   ],
   "source": [
    "%load_ext autoreload\n",
    "%autoreload 2\n",
    "\n",
    "from pathlib import Path\n",
    "import os\n",
    "from generate_conanfiles import *\n",
    "\n",
    "repo_dir = os.path.abspath('')\n",
    "src_dir = os.path.join(repo_dir, \"src\")\n",
    "package_xmls = get_package_xml_files(src_dir)\n",
    "make_abs = lambda x: os.path.abspath(os.path.join(src_dir, x))\n",
    "package_dirs = list(map(lambda x: Path(make_abs(x)).parent, package_xmls))\n"
   ]
  },
  {
   "cell_type": "code",
   "execution_count": null,
   "metadata": {},
   "outputs": [],
   "source": []
  },
  {
   "cell_type": "code",
   "execution_count": 37,
   "metadata": {},
   "outputs": [
    {
     "data": {
      "text/html": [
       "<div>\n",
       "<style scoped>\n",
       "    .dataframe tbody tr th:only-of-type {\n",
       "        vertical-align: middle;\n",
       "    }\n",
       "\n",
       "    .dataframe tbody tr th {\n",
       "        vertical-align: top;\n",
       "    }\n",
       "\n",
       "    .dataframe thead th {\n",
       "        text-align: right;\n",
       "    }\n",
       "</style>\n",
       "<table border=\"1\" class=\"dataframe\">\n",
       "  <thead>\n",
       "    <tr style=\"text-align: right;\">\n",
       "      <th></th>\n",
       "      <th>dir</th>\n",
       "      <th>cmake</th>\n",
       "      <th>python</th>\n",
       "    </tr>\n",
       "  </thead>\n",
       "  <tbody>\n",
       "    <tr>\n",
       "      <th>cyclonedds</th>\n",
       "      <td>/home/tbitz/repos/ros2conan/src/eclipse-cyclon...</td>\n",
       "      <td>True</td>\n",
       "      <td>False</td>\n",
       "    </tr>\n",
       "    <tr>\n",
       "      <th>rqt_graph</th>\n",
       "      <td>/home/tbitz/repos/ros2conan/src/ros-visualizat...</td>\n",
       "      <td>False</td>\n",
       "      <td>True</td>\n",
       "    </tr>\n",
       "    <tr>\n",
       "      <th>rqt_publisher</th>\n",
       "      <td>/home/tbitz/repos/ros2conan/src/ros-visualizat...</td>\n",
       "      <td>False</td>\n",
       "      <td>True</td>\n",
       "    </tr>\n",
       "    <tr>\n",
       "      <th>rqt_shell</th>\n",
       "      <td>/home/tbitz/repos/ros2conan/src/ros-visualizat...</td>\n",
       "      <td>False</td>\n",
       "      <td>True</td>\n",
       "    </tr>\n",
       "    <tr>\n",
       "      <th>tango_icons_vendor</th>\n",
       "      <td>/home/tbitz/repos/ros2conan/src/ros-visualizat...</td>\n",
       "      <td>True</td>\n",
       "      <td>False</td>\n",
       "    </tr>\n",
       "    <tr>\n",
       "      <th>...</th>\n",
       "      <td>...</td>\n",
       "      <td>...</td>\n",
       "      <td>...</td>\n",
       "    </tr>\n",
       "    <tr>\n",
       "      <th>iceoryx_binding_c</th>\n",
       "      <td>/home/tbitz/repos/ros2conan/src/eclipse-iceory...</td>\n",
       "      <td>True</td>\n",
       "      <td>False</td>\n",
       "    </tr>\n",
       "    <tr>\n",
       "      <th>iceoryx_hoofs</th>\n",
       "      <td>/home/tbitz/repos/ros2conan/src/eclipse-iceory...</td>\n",
       "      <td>True</td>\n",
       "      <td>False</td>\n",
       "    </tr>\n",
       "    <tr>\n",
       "      <th>map_msgs</th>\n",
       "      <td>/home/tbitz/repos/ros2conan/src/ros-planning/n...</td>\n",
       "      <td>True</td>\n",
       "      <td>False</td>\n",
       "    </tr>\n",
       "    <tr>\n",
       "      <th>keyboard_handler</th>\n",
       "      <td>/home/tbitz/repos/ros2conan/src/ros-tooling/ke...</td>\n",
       "      <td>True</td>\n",
       "      <td>False</td>\n",
       "    </tr>\n",
       "    <tr>\n",
       "      <th>libstatistics_collector</th>\n",
       "      <td>/home/tbitz/repos/ros2conan/src/ros-tooling/li...</td>\n",
       "      <td>True</td>\n",
       "      <td>False</td>\n",
       "    </tr>\n",
       "  </tbody>\n",
       "</table>\n",
       "<p>339 rows × 3 columns</p>\n",
       "</div>"
      ],
      "text/plain": [
       "                                                                       dir  \\\n",
       "cyclonedds               /home/tbitz/repos/ros2conan/src/eclipse-cyclon...   \n",
       "rqt_graph                /home/tbitz/repos/ros2conan/src/ros-visualizat...   \n",
       "rqt_publisher            /home/tbitz/repos/ros2conan/src/ros-visualizat...   \n",
       "rqt_shell                /home/tbitz/repos/ros2conan/src/ros-visualizat...   \n",
       "tango_icons_vendor       /home/tbitz/repos/ros2conan/src/ros-visualizat...   \n",
       "...                                                                    ...   \n",
       "iceoryx_binding_c        /home/tbitz/repos/ros2conan/src/eclipse-iceory...   \n",
       "iceoryx_hoofs            /home/tbitz/repos/ros2conan/src/eclipse-iceory...   \n",
       "map_msgs                 /home/tbitz/repos/ros2conan/src/ros-planning/n...   \n",
       "keyboard_handler         /home/tbitz/repos/ros2conan/src/ros-tooling/ke...   \n",
       "libstatistics_collector  /home/tbitz/repos/ros2conan/src/ros-tooling/li...   \n",
       "\n",
       "                         cmake python  \n",
       "cyclonedds                True  False  \n",
       "rqt_graph                False   True  \n",
       "rqt_publisher            False   True  \n",
       "rqt_shell                False   True  \n",
       "tango_icons_vendor        True  False  \n",
       "...                        ...    ...  \n",
       "iceoryx_binding_c         True  False  \n",
       "iceoryx_hoofs             True  False  \n",
       "map_msgs                  True  False  \n",
       "keyboard_handler          True  False  \n",
       "libstatistics_collector   True  False  \n",
       "\n",
       "[339 rows x 3 columns]"
      ]
     },
     "execution_count": 37,
     "metadata": {},
     "output_type": "execute_result"
    }
   ],
   "source": [
    "import pandas as pd\n",
    "from generate_conanfiles import has_cmakelists, has_setup_py\n",
    "\n",
    "def create_dir_meta(dirname):\n",
    "    return {\n",
    "        \"dir\" : dirname,\n",
    "        \"cmake\" : has_cmakelists(dirname),\n",
    "        \"python\" : has_setup_py(dirname),\n",
    "    }\n",
    "\n",
    "def package_name(dirname):\n",
    "    return os.path.split(dirname)[-1]\n",
    "\n",
    "dir_meta = { package_name(dirname) : create_dir_meta(dirname) for dirname in package_dirs}\n",
    "\n",
    "df = pd.DataFrame(dir_meta).transpose()\n",
    "df.to_excel(\"package_metas.xlsx\")\n",
    "df"
   ]
  },
  {
   "cell_type": "code",
   "execution_count": 38,
   "metadata": {},
   "outputs": [
    {
     "name": "stdout",
     "output_type": "stream",
     "text": [
      "Both cmake and python: 8\n",
      "Neither cmake or python: 0\n"
     ]
    }
   ],
   "source": [
    "build_system_unsure = [] \n",
    "both_cmake_and_python= [];\n",
    "for pkg, meta in dir_meta.items():\n",
    "    if (not meta['cmake'] and not meta['python']):\n",
    "        build_system_unsure.append(pkg)\n",
    "    if (meta['cmake'] and meta['python']):\n",
    "        both_cmake_and_python.append(pkg)\n",
    "\n",
    "print(f\"Both cmake and python: {both_cmake_and_python}\")\n",
    "print(f\"Neither cmake or python: {build_system_unsure}\")"
   ]
  },
  {
   "cell_type": "code",
   "execution_count": null,
   "metadata": {},
   "outputs": [],
   "source": []
  }
 ],
 "metadata": {
  "kernelspec": {
   "display_name": "Python 3",
   "language": "python",
   "name": "python3"
  },
  "language_info": {
   "codemirror_mode": {
    "name": "ipython",
    "version": 3
   },
   "file_extension": ".py",
   "mimetype": "text/x-python",
   "name": "python",
   "nbconvert_exporter": "python",
   "pygments_lexer": "ipython3",
   "version": "3.10.6"
  },
  "orig_nbformat": 4
 },
 "nbformat": 4,
 "nbformat_minor": 2
}
